{
  "nbformat": 4,
  "nbformat_minor": 0,
  "metadata": {
    "colab": {
      "name": "MAP.ipynb",
      "provenance": []
    },
    "kernelspec": {
      "name": "python3",
      "display_name": "Python 3"
    }
  },
  "cells": [
    {
      "cell_type": "code",
      "metadata": {
        "id": "6jnaNGsFmaU_",
        "colab_type": "code",
        "outputId": "a61597d6-c917-47e0-b939-29b3d3d6519e",
        "colab": {
          "base_uri": "https://localhost:8080/",
          "height": 35
        }
      },
      "source": [
        "!pip install xlrd"
      ],
      "execution_count": 164,
      "outputs": [
        {
          "output_type": "stream",
          "text": [
            "Requirement already satisfied: xlrd in /usr/local/lib/python3.6/dist-packages (1.1.0)\n"
          ],
          "name": "stdout"
        }
      ]
    },
    {
      "cell_type": "code",
      "metadata": {
        "id": "-tB_TvpI88MD",
        "colab_type": "code",
        "colab": {}
      },
      "source": [
        "import pandas as pd\n",
        "import numpy as np\n",
        "from scipy import stats"
      ],
      "execution_count": 0,
      "outputs": []
    },
    {
      "cell_type": "code",
      "metadata": {
        "id": "rsOMUUdwmtd4",
        "colab_type": "code",
        "outputId": "c2ea3ba6-3389-4700-86b9-329c3b946c95",
        "colab": {
          "base_uri": "https://localhost:8080/",
          "height": 348
        }
      },
      "source": [
        "#LoadData\n",
        "path = ('/sample_data')  \n",
        "df = pd.read_csv('MAP - Sheet1.csv')\n",
        "df"
      ],
      "execution_count": 166,
      "outputs": [
        {
          "output_type": "execute_result",
          "data": {
            "text/html": [
              "<div>\n",
              "<style scoped>\n",
              "    .dataframe tbody tr th:only-of-type {\n",
              "        vertical-align: middle;\n",
              "    }\n",
              "\n",
              "    .dataframe tbody tr th {\n",
              "        vertical-align: top;\n",
              "    }\n",
              "\n",
              "    .dataframe thead th {\n",
              "        text-align: right;\n",
              "    }\n",
              "</style>\n",
              "<table border=\"1\" class=\"dataframe\">\n",
              "  <thead>\n",
              "    <tr style=\"text-align: right;\">\n",
              "      <th></th>\n",
              "      <th>Q1</th>\n",
              "      <th>Q2</th>\n",
              "      <th>Q3</th>\n",
              "      <th>Q4</th>\n",
              "      <th>Q5</th>\n",
              "      <th>P1</th>\n",
              "      <th>P2</th>\n",
              "      <th>P3</th>\n",
              "      <th>P4</th>\n",
              "      <th>P5</th>\n",
              "    </tr>\n",
              "  </thead>\n",
              "  <tbody>\n",
              "    <tr>\n",
              "      <th>0</th>\n",
              "      <td>1</td>\n",
              "      <td>1</td>\n",
              "      <td>0</td>\n",
              "      <td>1</td>\n",
              "      <td>0</td>\n",
              "      <td>1</td>\n",
              "      <td>1</td>\n",
              "      <td>1</td>\n",
              "      <td>0</td>\n",
              "      <td>0</td>\n",
              "    </tr>\n",
              "    <tr>\n",
              "      <th>1</th>\n",
              "      <td>1</td>\n",
              "      <td>1</td>\n",
              "      <td>0</td>\n",
              "      <td>1</td>\n",
              "      <td>0</td>\n",
              "      <td>0</td>\n",
              "      <td>1</td>\n",
              "      <td>0</td>\n",
              "      <td>0</td>\n",
              "      <td>0</td>\n",
              "    </tr>\n",
              "    <tr>\n",
              "      <th>2</th>\n",
              "      <td>1</td>\n",
              "      <td>1</td>\n",
              "      <td>0</td>\n",
              "      <td>1</td>\n",
              "      <td>1</td>\n",
              "      <td>1</td>\n",
              "      <td>1</td>\n",
              "      <td>1</td>\n",
              "      <td>1</td>\n",
              "      <td>0</td>\n",
              "    </tr>\n",
              "    <tr>\n",
              "      <th>3</th>\n",
              "      <td>0</td>\n",
              "      <td>1</td>\n",
              "      <td>1</td>\n",
              "      <td>0</td>\n",
              "      <td>1</td>\n",
              "      <td>1</td>\n",
              "      <td>0</td>\n",
              "      <td>0</td>\n",
              "      <td>1</td>\n",
              "      <td>1</td>\n",
              "    </tr>\n",
              "    <tr>\n",
              "      <th>4</th>\n",
              "      <td>0</td>\n",
              "      <td>1</td>\n",
              "      <td>1</td>\n",
              "      <td>1</td>\n",
              "      <td>0</td>\n",
              "      <td>0</td>\n",
              "      <td>0</td>\n",
              "      <td>0</td>\n",
              "      <td>1</td>\n",
              "      <td>1</td>\n",
              "    </tr>\n",
              "    <tr>\n",
              "      <th>5</th>\n",
              "      <td>1</td>\n",
              "      <td>1</td>\n",
              "      <td>1</td>\n",
              "      <td>1</td>\n",
              "      <td>0</td>\n",
              "      <td>0</td>\n",
              "      <td>0</td>\n",
              "      <td>1</td>\n",
              "      <td>1</td>\n",
              "      <td>0</td>\n",
              "    </tr>\n",
              "    <tr>\n",
              "      <th>6</th>\n",
              "      <td>1</td>\n",
              "      <td>0</td>\n",
              "      <td>0</td>\n",
              "      <td>0</td>\n",
              "      <td>0</td>\n",
              "      <td>1</td>\n",
              "      <td>1</td>\n",
              "      <td>0</td>\n",
              "      <td>0</td>\n",
              "      <td>0</td>\n",
              "    </tr>\n",
              "    <tr>\n",
              "      <th>7</th>\n",
              "      <td>1</td>\n",
              "      <td>0</td>\n",
              "      <td>0</td>\n",
              "      <td>1</td>\n",
              "      <td>0</td>\n",
              "      <td>0</td>\n",
              "      <td>0</td>\n",
              "      <td>0</td>\n",
              "      <td>0</td>\n",
              "      <td>0</td>\n",
              "    </tr>\n",
              "    <tr>\n",
              "      <th>8</th>\n",
              "      <td>0</td>\n",
              "      <td>0</td>\n",
              "      <td>1</td>\n",
              "      <td>0</td>\n",
              "      <td>0</td>\n",
              "      <td>0</td>\n",
              "      <td>1</td>\n",
              "      <td>1</td>\n",
              "      <td>0</td>\n",
              "      <td>0</td>\n",
              "    </tr>\n",
              "    <tr>\n",
              "      <th>9</th>\n",
              "      <td>1</td>\n",
              "      <td>0</td>\n",
              "      <td>1</td>\n",
              "      <td>1</td>\n",
              "      <td>0</td>\n",
              "      <td>1</td>\n",
              "      <td>1</td>\n",
              "      <td>0</td>\n",
              "      <td>0</td>\n",
              "      <td>1</td>\n",
              "    </tr>\n",
              "  </tbody>\n",
              "</table>\n",
              "</div>"
            ],
            "text/plain": [
              "   Q1  Q2  Q3  Q4  Q5  P1  P2  P3  P4  P5\n",
              "0   1   1   0   1   0   1   1   1   0   0\n",
              "1   1   1   0   1   0   0   1   0   0   0\n",
              "2   1   1   0   1   1   1   1   1   1   0\n",
              "3   0   1   1   0   1   1   0   0   1   1\n",
              "4   0   1   1   1   0   0   0   0   1   1\n",
              "5   1   1   1   1   0   0   0   1   1   0\n",
              "6   1   0   0   0   0   1   1   0   0   0\n",
              "7   1   0   0   1   0   0   0   0   0   0\n",
              "8   0   0   1   0   0   0   1   1   0   0\n",
              "9   1   0   1   1   0   1   1   0   0   1"
            ]
          },
          "metadata": {
            "tags": []
          },
          "execution_count": 166
        }
      ]
    },
    {
      "cell_type": "code",
      "metadata": {
        "id": "WAdm1jM6m7Yg",
        "colab_type": "code",
        "colab": {}
      },
      "source": [
        "#ChangeToArray\n",
        "Q1=np.array(df['Q1'])\n",
        "Q2=np.array(df['Q2'])\n",
        "Q3=np.array(df['Q3'])\n",
        "Q4=np.array(df['Q4'])\n",
        "Q5=np.array(df['Q5'])\n",
        "P1=np.array(df['P1'])\n",
        "P2=np.array(df['P2'])\n",
        "P3=np.array(df['P3'])\n",
        "P4=np.array(df['P4'])\n",
        "P5=np.array(df['P5'])"
      ],
      "execution_count": 0,
      "outputs": []
    },
    {
      "cell_type": "code",
      "metadata": {
        "id": "lGGBy80Topyv",
        "colab_type": "code",
        "colab": {}
      },
      "source": [
        "#CalculatingAP\n",
        "def AP(Q):\n",
        "  mean=[]\n",
        "  for i in range(1,len(Q)+1):\n",
        "    mean.append(np.mean(Q[0:i]))\n",
        "    mean1=np.array(mean)\n",
        "  AP=(np.dot(mean1,Q))/(np.sum(Q))\n",
        "  return AP"
      ],
      "execution_count": 0,
      "outputs": []
    },
    {
      "cell_type": "code",
      "metadata": {
        "id": "0aIaGyUi-Ggj",
        "colab_type": "code",
        "outputId": "600be5f4-7502-41ef-ee5b-877378d4b301",
        "colab": {
          "base_uri": "https://localhost:8080/",
          "height": 55
        }
      },
      "source": [
        "#CalculatingMAP&T-Test\n",
        "AP_inner=np.array([AP(Q1), AP(Q2), AP(Q3), AP(Q4), AP(Q5)])\n",
        "AP_BM25=np.array([AP(P1), AP(P2), AP(P3), AP(P4), AP(P5)])\n",
        "MAP_inner=np.mean(AP_inner)\n",
        "MAP_BM25=np.mean(AP_BM25)\n",
        "\n",
        "t_test=stats.ttest_ind(AP_inner, AP_BM25)\n",
        "print(t_test,\"MAP inner= \", MAP_inner, \"MAP BM25= \",MAP_BM25)"
      ],
      "execution_count": 169,
      "outputs": [
        {
          "output_type": "stream",
          "text": [
            "Ttest_indResult(statistic=0.7618519012838434, pvalue=0.46801137623184774) MAP inner=  0.7075192743764172 MAP BM25=  0.5959788359788358\n"
          ],
          "name": "stdout"
        }
      ]
    },
    {
      "cell_type": "code",
      "metadata": {
        "id": "P71Vx_EB2GaS",
        "colab_type": "code",
        "colab": {}
      },
      "source": [
        "#AP_inner=np.array([0.832, 0.911])\n",
        "#AP_BM25=np.array([0.822, 0.943])\n",
        "#MAP_inner=np.mean(AP_inner)\n",
        "#MAP_BM25=np.mean(AP_BM25)\n",
        "\n",
        "#t_test=stats.ttest_ind(AP_inner, AP_BM25)\n",
        "#print(t_test,\"MAP inner= \", MAP_inner, \"MAP BM25= \",MAP_BM25)"
      ],
      "execution_count": 0,
      "outputs": []
    },
    {
      "cell_type": "code",
      "metadata": {
        "id": "N9qjlNw0Kwd2",
        "colab_type": "code",
        "colab": {}
      },
      "source": [
        "#mean=[]\n",
        "#for i in range(1,len(Q)+1):\n",
        "#  mean.append(np.mean(Q[0:i]))\n",
        "#  mean1=np.array(mean)\n",
        "#AP=(np.dot(mean1,Q))/(np.sum(Q))"
      ],
      "execution_count": 0,
      "outputs": []
    }
  ]
}